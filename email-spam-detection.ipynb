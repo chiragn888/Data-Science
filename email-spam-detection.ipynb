{
 "cells": [
  {
   "cell_type": "code",
   "execution_count": 1,
   "id": "398b073e",
   "metadata": {
    "_cell_guid": "b1076dfc-b9ad-4769-8c92-a6c4dae69d19",
    "_uuid": "8f2839f25d086af736a60e9eeb907d3b93b6e0e5",
    "execution": {
     "iopub.execute_input": "2022-12-08T02:30:51.051038Z",
     "iopub.status.busy": "2022-12-08T02:30:51.049652Z",
     "iopub.status.idle": "2022-12-08T02:30:51.070319Z",
     "shell.execute_reply": "2022-12-08T02:30:51.069374Z"
    },
    "papermill": {
     "duration": 0.029787,
     "end_time": "2022-12-08T02:30:51.073006",
     "exception": false,
     "start_time": "2022-12-08T02:30:51.043219",
     "status": "completed"
    },
    "tags": []
   },
   "outputs": [
    {
     "name": "stdout",
     "output_type": "stream",
     "text": [
      "/kaggle/input/maildataset/mail_data.csv\n",
      "/kaggle/input/maildataset/spam-mail-prediction-machine-learning-project.ipynb\n"
     ]
    }
   ],
   "source": [
    "# This Python 3 environment comes with many helpful analytics libraries installed\n",
    "# It is defined by the kaggle/python Docker image: https://github.com/kaggle/docker-python\n",
    "# For example, here's several helpful packages to load\n",
    "\n",
    "import numpy as np # linear algebra\n",
    "import pandas as pd # data processing, CSV file I/O (e.g. pd.read_csv)\n",
    "\n",
    "# Input data files are available in the read-only \"../input/\" directory\n",
    "# For example, running this (by clicking run or pressing Shift+Enter) will list all files under the input directory\n",
    "\n",
    "import os\n",
    "for dirname, _, filenames in os.walk('/kaggle/input'):\n",
    "    for filename in filenames:\n",
    "        print(os.path.join(dirname, filename))\n",
    "\n",
    "# You can write up to 20GB to the current directory (/kaggle/working/) that gets preserved as output when you create a version using \"Save & Run All\" \n",
    "# You can also write temporary files to /kaggle/temp/, but they won't be saved outside of the current session"
   ]
  },
  {
   "cell_type": "code",
   "execution_count": 2,
   "id": "b4460115",
   "metadata": {
    "execution": {
     "iopub.execute_input": "2022-12-08T02:30:51.082875Z",
     "iopub.status.busy": "2022-12-08T02:30:51.081656Z",
     "iopub.status.idle": "2022-12-08T02:30:52.274193Z",
     "shell.execute_reply": "2022-12-08T02:30:52.273088Z"
    },
    "papermill": {
     "duration": 1.200079,
     "end_time": "2022-12-08T02:30:52.276980",
     "exception": false,
     "start_time": "2022-12-08T02:30:51.076901",
     "status": "completed"
    },
    "tags": []
   },
   "outputs": [],
   "source": [
    "import pandas as pd \n",
    "import numpy as np\n",
    "from sklearn.model_selection import train_test_split"
   ]
  },
  {
   "cell_type": "code",
   "execution_count": 3,
   "id": "632d1dd1",
   "metadata": {
    "execution": {
     "iopub.execute_input": "2022-12-08T02:30:52.287444Z",
     "iopub.status.busy": "2022-12-08T02:30:52.286646Z",
     "iopub.status.idle": "2022-12-08T02:30:52.340581Z",
     "shell.execute_reply": "2022-12-08T02:30:52.339314Z"
    },
    "papermill": {
     "duration": 0.061852,
     "end_time": "2022-12-08T02:30:52.343399",
     "exception": false,
     "start_time": "2022-12-08T02:30:52.281547",
     "status": "completed"
    },
    "tags": []
   },
   "outputs": [
    {
     "data": {
      "text/html": [
       "<div>\n",
       "<style scoped>\n",
       "    .dataframe tbody tr th:only-of-type {\n",
       "        vertical-align: middle;\n",
       "    }\n",
       "\n",
       "    .dataframe tbody tr th {\n",
       "        vertical-align: top;\n",
       "    }\n",
       "\n",
       "    .dataframe thead th {\n",
       "        text-align: right;\n",
       "    }\n",
       "</style>\n",
       "<table border=\"1\" class=\"dataframe\">\n",
       "  <thead>\n",
       "    <tr style=\"text-align: right;\">\n",
       "      <th></th>\n",
       "      <th>Category</th>\n",
       "      <th>Message</th>\n",
       "    </tr>\n",
       "  </thead>\n",
       "  <tbody>\n",
       "    <tr>\n",
       "      <th>0</th>\n",
       "      <td>ham</td>\n",
       "      <td>Go until jurong point, crazy.. Available only ...</td>\n",
       "    </tr>\n",
       "    <tr>\n",
       "      <th>1</th>\n",
       "      <td>ham</td>\n",
       "      <td>Ok lar... Joking wif u oni...</td>\n",
       "    </tr>\n",
       "    <tr>\n",
       "      <th>2</th>\n",
       "      <td>spam</td>\n",
       "      <td>Free entry in 2 a wkly comp to win FA Cup fina...</td>\n",
       "    </tr>\n",
       "    <tr>\n",
       "      <th>3</th>\n",
       "      <td>ham</td>\n",
       "      <td>U dun say so early hor... U c already then say...</td>\n",
       "    </tr>\n",
       "    <tr>\n",
       "      <th>4</th>\n",
       "      <td>ham</td>\n",
       "      <td>Nah I don't think he goes to usf, he lives aro...</td>\n",
       "    </tr>\n",
       "  </tbody>\n",
       "</table>\n",
       "</div>"
      ],
      "text/plain": [
       "  Category                                            Message\n",
       "0      ham  Go until jurong point, crazy.. Available only ...\n",
       "1      ham                      Ok lar... Joking wif u oni...\n",
       "2     spam  Free entry in 2 a wkly comp to win FA Cup fina...\n",
       "3      ham  U dun say so early hor... U c already then say...\n",
       "4      ham  Nah I don't think he goes to usf, he lives aro..."
      ]
     },
     "execution_count": 3,
     "metadata": {},
     "output_type": "execute_result"
    }
   ],
   "source": [
    "df=pd.read_csv('/kaggle/input/maildataset/mail_data.csv')\n",
    "df.head()"
   ]
  },
  {
   "cell_type": "code",
   "execution_count": 4,
   "id": "462569ea",
   "metadata": {
    "execution": {
     "iopub.execute_input": "2022-12-08T02:30:52.353895Z",
     "iopub.status.busy": "2022-12-08T02:30:52.353168Z",
     "iopub.status.idle": "2022-12-08T02:30:52.393984Z",
     "shell.execute_reply": "2022-12-08T02:30:52.392856Z"
    },
    "papermill": {
     "duration": 0.048887,
     "end_time": "2022-12-08T02:30:52.396556",
     "exception": false,
     "start_time": "2022-12-08T02:30:52.347669",
     "status": "completed"
    },
    "tags": []
   },
   "outputs": [
    {
     "data": {
      "text/html": [
       "<div>\n",
       "<style scoped>\n",
       "    .dataframe tbody tr th:only-of-type {\n",
       "        vertical-align: middle;\n",
       "    }\n",
       "\n",
       "    .dataframe tbody tr th {\n",
       "        vertical-align: top;\n",
       "    }\n",
       "\n",
       "    .dataframe thead tr th {\n",
       "        text-align: left;\n",
       "    }\n",
       "\n",
       "    .dataframe thead tr:last-of-type th {\n",
       "        text-align: right;\n",
       "    }\n",
       "</style>\n",
       "<table border=\"1\" class=\"dataframe\">\n",
       "  <thead>\n",
       "    <tr>\n",
       "      <th></th>\n",
       "      <th colspan=\"4\" halign=\"left\">Message</th>\n",
       "    </tr>\n",
       "    <tr>\n",
       "      <th></th>\n",
       "      <th>count</th>\n",
       "      <th>unique</th>\n",
       "      <th>top</th>\n",
       "      <th>freq</th>\n",
       "    </tr>\n",
       "    <tr>\n",
       "      <th>Category</th>\n",
       "      <th></th>\n",
       "      <th></th>\n",
       "      <th></th>\n",
       "      <th></th>\n",
       "    </tr>\n",
       "  </thead>\n",
       "  <tbody>\n",
       "    <tr>\n",
       "      <th>ham</th>\n",
       "      <td>4825</td>\n",
       "      <td>4516</td>\n",
       "      <td>Sorry, I'll call later</td>\n",
       "      <td>30</td>\n",
       "    </tr>\n",
       "    <tr>\n",
       "      <th>spam</th>\n",
       "      <td>747</td>\n",
       "      <td>641</td>\n",
       "      <td>Please call our customer service representativ...</td>\n",
       "      <td>4</td>\n",
       "    </tr>\n",
       "  </tbody>\n",
       "</table>\n",
       "</div>"
      ],
      "text/plain": [
       "         Message                                                            \\\n",
       "           count unique                                                top   \n",
       "Category                                                                     \n",
       "ham         4825   4516                             Sorry, I'll call later   \n",
       "spam         747    641  Please call our customer service representativ...   \n",
       "\n",
       "               \n",
       "         freq  \n",
       "Category       \n",
       "ham        30  \n",
       "spam        4  "
      ]
     },
     "execution_count": 4,
     "metadata": {},
     "output_type": "execute_result"
    }
   ],
   "source": [
    "df.groupby('Category').describe()"
   ]
  },
  {
   "cell_type": "code",
   "execution_count": 5,
   "id": "344940a0",
   "metadata": {
    "execution": {
     "iopub.execute_input": "2022-12-08T02:30:52.407230Z",
     "iopub.status.busy": "2022-12-08T02:30:52.406770Z",
     "iopub.status.idle": "2022-12-08T02:30:52.422671Z",
     "shell.execute_reply": "2022-12-08T02:30:52.421333Z"
    },
    "papermill": {
     "duration": 0.023663,
     "end_time": "2022-12-08T02:30:52.424727",
     "exception": false,
     "start_time": "2022-12-08T02:30:52.401064",
     "status": "completed"
    },
    "tags": []
   },
   "outputs": [
    {
     "data": {
      "text/html": [
       "<div>\n",
       "<style scoped>\n",
       "    .dataframe tbody tr th:only-of-type {\n",
       "        vertical-align: middle;\n",
       "    }\n",
       "\n",
       "    .dataframe tbody tr th {\n",
       "        vertical-align: top;\n",
       "    }\n",
       "\n",
       "    .dataframe thead th {\n",
       "        text-align: right;\n",
       "    }\n",
       "</style>\n",
       "<table border=\"1\" class=\"dataframe\">\n",
       "  <thead>\n",
       "    <tr style=\"text-align: right;\">\n",
       "      <th></th>\n",
       "      <th>Category</th>\n",
       "      <th>Message</th>\n",
       "      <th>spam</th>\n",
       "    </tr>\n",
       "  </thead>\n",
       "  <tbody>\n",
       "    <tr>\n",
       "      <th>0</th>\n",
       "      <td>ham</td>\n",
       "      <td>Go until jurong point, crazy.. Available only ...</td>\n",
       "      <td>0</td>\n",
       "    </tr>\n",
       "    <tr>\n",
       "      <th>1</th>\n",
       "      <td>ham</td>\n",
       "      <td>Ok lar... Joking wif u oni...</td>\n",
       "      <td>0</td>\n",
       "    </tr>\n",
       "    <tr>\n",
       "      <th>2</th>\n",
       "      <td>spam</td>\n",
       "      <td>Free entry in 2 a wkly comp to win FA Cup fina...</td>\n",
       "      <td>1</td>\n",
       "    </tr>\n",
       "  </tbody>\n",
       "</table>\n",
       "</div>"
      ],
      "text/plain": [
       "  Category                                            Message  spam\n",
       "0      ham  Go until jurong point, crazy.. Available only ...     0\n",
       "1      ham                      Ok lar... Joking wif u oni...     0\n",
       "2     spam  Free entry in 2 a wkly comp to win FA Cup fina...     1"
      ]
     },
     "execution_count": 5,
     "metadata": {},
     "output_type": "execute_result"
    }
   ],
   "source": [
    "df['spam']=df['Category'].apply(lambda x : 1 if x=='spam' else 0 )\n",
    "df.head(3)"
   ]
  },
  {
   "cell_type": "code",
   "execution_count": 6,
   "id": "196f31ce",
   "metadata": {
    "execution": {
     "iopub.execute_input": "2022-12-08T02:30:52.435891Z",
     "iopub.status.busy": "2022-12-08T02:30:52.435070Z",
     "iopub.status.idle": "2022-12-08T02:30:52.712448Z",
     "shell.execute_reply": "2022-12-08T02:30:52.710907Z"
    },
    "papermill": {
     "duration": 0.285897,
     "end_time": "2022-12-08T02:30:52.715306",
     "exception": false,
     "start_time": "2022-12-08T02:30:52.429409",
     "status": "completed"
    },
    "tags": []
   },
   "outputs": [
    {
     "data": {
      "text/plain": [
       "array([[0, 0, 0, ..., 0, 0, 0],\n",
       "       [0, 0, 0, ..., 0, 0, 0]])"
      ]
     },
     "execution_count": 6,
     "metadata": {},
     "output_type": "execute_result"
    }
   ],
   "source": [
    "from sklearn.feature_extraction.text import CountVectorizer\n",
    "v=CountVectorizer()\n",
    "count=v.fit_transform(df['Message'])\n",
    "count.toarray()[:2]"
   ]
  },
  {
   "cell_type": "code",
   "execution_count": 7,
   "id": "170b9222",
   "metadata": {
    "execution": {
     "iopub.execute_input": "2022-12-08T02:30:52.725935Z",
     "iopub.status.busy": "2022-12-08T02:30:52.725566Z",
     "iopub.status.idle": "2022-12-08T02:30:52.733628Z",
     "shell.execute_reply": "2022-12-08T02:30:52.732174Z"
    },
    "papermill": {
     "duration": 0.016304,
     "end_time": "2022-12-08T02:30:52.736160",
     "exception": false,
     "start_time": "2022-12-08T02:30:52.719856",
     "status": "completed"
    },
    "tags": []
   },
   "outputs": [],
   "source": [
    "X_train,X_test,Y_train,Y_test=train_test_split(count,df.spam,test_size=0.2)"
   ]
  },
  {
   "cell_type": "code",
   "execution_count": 8,
   "id": "d9ac145c",
   "metadata": {
    "execution": {
     "iopub.execute_input": "2022-12-08T02:30:52.746843Z",
     "iopub.status.busy": "2022-12-08T02:30:52.746123Z",
     "iopub.status.idle": "2022-12-08T02:30:52.752820Z",
     "shell.execute_reply": "2022-12-08T02:30:52.751794Z"
    },
    "papermill": {
     "duration": 0.014233,
     "end_time": "2022-12-08T02:30:52.754937",
     "exception": false,
     "start_time": "2022-12-08T02:30:52.740704",
     "status": "completed"
    },
    "tags": []
   },
   "outputs": [
    {
     "data": {
      "text/plain": [
       "(4457, 8709)"
      ]
     },
     "execution_count": 8,
     "metadata": {},
     "output_type": "execute_result"
    }
   ],
   "source": [
    "X_train.shape"
   ]
  },
  {
   "cell_type": "code",
   "execution_count": 9,
   "id": "ebf1c914",
   "metadata": {
    "execution": {
     "iopub.execute_input": "2022-12-08T02:30:52.766673Z",
     "iopub.status.busy": "2022-12-08T02:30:52.766303Z",
     "iopub.status.idle": "2022-12-08T02:30:52.773870Z",
     "shell.execute_reply": "2022-12-08T02:30:52.772696Z"
    },
    "papermill": {
     "duration": 0.015823,
     "end_time": "2022-12-08T02:30:52.776284",
     "exception": false,
     "start_time": "2022-12-08T02:30:52.760461",
     "status": "completed"
    },
    "tags": []
   },
   "outputs": [],
   "source": [
    "from sklearn.naive_bayes import MultinomialNB\n",
    "model=MultinomialNB()"
   ]
  },
  {
   "cell_type": "code",
   "execution_count": 10,
   "id": "b8c3ce78",
   "metadata": {
    "execution": {
     "iopub.execute_input": "2022-12-08T02:30:52.787116Z",
     "iopub.status.busy": "2022-12-08T02:30:52.786722Z",
     "iopub.status.idle": "2022-12-08T02:30:52.799174Z",
     "shell.execute_reply": "2022-12-08T02:30:52.798354Z"
    },
    "papermill": {
     "duration": 0.02051,
     "end_time": "2022-12-08T02:30:52.801440",
     "exception": false,
     "start_time": "2022-12-08T02:30:52.780930",
     "status": "completed"
    },
    "tags": []
   },
   "outputs": [
    {
     "data": {
      "text/plain": [
       "MultinomialNB()"
      ]
     },
     "execution_count": 10,
     "metadata": {},
     "output_type": "execute_result"
    }
   ],
   "source": [
    "model.fit(X_train,Y_train)"
   ]
  },
  {
   "cell_type": "code",
   "execution_count": 11,
   "id": "75a817dc",
   "metadata": {
    "execution": {
     "iopub.execute_input": "2022-12-08T02:30:52.812993Z",
     "iopub.status.busy": "2022-12-08T02:30:52.812619Z",
     "iopub.status.idle": "2022-12-08T02:30:52.821673Z",
     "shell.execute_reply": "2022-12-08T02:30:52.820517Z"
    },
    "papermill": {
     "duration": 0.017179,
     "end_time": "2022-12-08T02:30:52.823786",
     "exception": false,
     "start_time": "2022-12-08T02:30:52.806607",
     "status": "completed"
    },
    "tags": []
   },
   "outputs": [
    {
     "data": {
      "text/plain": [
       "0.9730941704035875"
      ]
     },
     "execution_count": 11,
     "metadata": {},
     "output_type": "execute_result"
    }
   ],
   "source": [
    "model.score(X_test,Y_test)"
   ]
  },
  {
   "cell_type": "code",
   "execution_count": null,
   "id": "2051c484",
   "metadata": {
    "papermill": {
     "duration": 0.004238,
     "end_time": "2022-12-08T02:30:52.832597",
     "exception": false,
     "start_time": "2022-12-08T02:30:52.828359",
     "status": "completed"
    },
    "tags": []
   },
   "outputs": [],
   "source": []
  }
 ],
 "metadata": {
  "kernelspec": {
   "display_name": "Python 3",
   "language": "python",
   "name": "python3"
  },
  "language_info": {
   "codemirror_mode": {
    "name": "ipython",
    "version": 3
   },
   "file_extension": ".py",
   "mimetype": "text/x-python",
   "name": "python",
   "nbconvert_exporter": "python",
   "pygments_lexer": "ipython3",
   "version": "3.7.12"
  },
  "papermill": {
   "default_parameters": {},
   "duration": 11.035585,
   "end_time": "2022-12-08T02:30:53.559394",
   "environment_variables": {},
   "exception": null,
   "input_path": "__notebook__.ipynb",
   "output_path": "__notebook__.ipynb",
   "parameters": {},
   "start_time": "2022-12-08T02:30:42.523809",
   "version": "2.3.4"
  }
 },
 "nbformat": 4,
 "nbformat_minor": 5
}
